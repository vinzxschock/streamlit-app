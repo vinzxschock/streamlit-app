{
  "cells": [
    {
      "cell_type": "markdown",
      "metadata": {},
      "source": [
        "# Welcome to Building Your First AI Assistant\n"
      ]
    },
    {
      "cell_type": "markdown",
      "metadata": {},
      "source": [
        "## Setup\n",
        "\n",
        "Let's get started!"
      ]
    },
    {
      "cell_type": "code",
      "execution_count": 2,
      "metadata": {},
      "outputs": [],
      "source": [
        "import openai\n",
        "from openai import OpenAI\n",
        "import os\n",
        "from dotenv import load_dotenv, find_dotenv\n",
        "\n",
        "\n",
        "_ = load_dotenv(find_dotenv())\n",
        "openai.api_key = os.getenv('OPENAI_API_KEY')"
      ]
    },
    {
      "cell_type": "markdown",
      "metadata": {},
      "source": [
        "## Start Session\n",
        "\n",
        "First, let's create a session with the OpenAI client. This will establish our connection to the API."
      ]
    },
    {
      "cell_type": "code",
      "execution_count": 3,
      "metadata": {},
      "outputs": [],
      "source": [
        "client = OpenAI()"
      ]
    },
    {
      "cell_type": "markdown",
      "metadata": {},
      "source": [
        "## Create an Assistant\n",
        "\n",
        "To make the name unique, use the beginning of you HdM email as name (everything before @). Replace XY with your email (e.g. ab152)\n",
        "Next, include the instructions (replace YOUR PROMPT)."
      ]
    },
    {
      "cell_type": "code",
      "execution_count": 4,
      "metadata": {},
      "outputs": [],
      "source": [
        "HDM_EMAIL = \"vs122\"\n",
        "\n",
        "INSTRUCTIONS=\"You are an expert in creating marketing campaigns\""
      ]
    },
    {
      "cell_type": "markdown",
      "metadata": {},
      "source": [
        "Run the following code cell, after you have entered the HDM_EMAIL and the INSTRUCTIONS (you also need to execute the code cell)."
      ]
    },
    {
      "cell_type": "code",
      "execution_count": 5,
      "metadata": {},
      "outputs": [],
      "source": [
        "# Do note change this code\n",
        "\n",
        "assistant = client.beta.assistants.create(\n",
        "    name=HDM_EMAIL,\n",
        "    instructions=INSTRUCTIONS,\n",
        "    tools=[{\"type\": \"code_interpreter\"}],\n",
        "    model=\"gpt-4-1106-preview\"\n",
        ")"
      ]
    },
    {
      "cell_type": "markdown",
      "metadata": {},
      "source": [
        "Once this code is executed, an AI Assistant will be created and available on the OpenAI platform. The Assistant will have a unique ID, which can be used to integrate it into other applications, such as a Streamlit app. This integration allows you to leverage the Assistant's capabilities in different environments, enabling interactive, real-time user engagement with the AI across various platforms.\n",
        "\n",
        "## Get the ID"
      ]
    },
    {
      "cell_type": "markdown",
      "metadata": {},
      "source": [
        "Now you need to retrieve the ID:"
      ]
    },
    {
      "cell_type": "code",
      "execution_count": 6,
      "metadata": {},
      "outputs": [],
      "source": [
        "ASSISTANT_ID = assistant.id"
      ]
    },
    {
      "cell_type": "code",
      "execution_count": null,
      "metadata": {},
      "outputs": [],
      "source": []
    },
    {
      "cell_type": "markdown",
      "metadata": {},
      "source": [
        "Print the name and assitant id:"
      ]
    },
    {
      "cell_type": "code",
      "execution_count": 7,
      "metadata": {},
      "outputs": [
        {
          "name": "stdout",
          "output_type": "stream",
          "text": [
            "asst_jy1FXRxyLQ5IdzrRW9WWSPvk\n"
          ]
        }
      ],
      "source": [
        "print(ASSISTANT_ID)"
      ]
    },
    {
      "cell_type": "markdown",
      "metadata": {},
      "source": [
        "Now copy the result and use it in your application (e.g. Streamlit)"
      ]
    }
  ],
  "metadata": {
    "kernelspec": {
      "display_name": "Python 3 (ipykernel)",
      "language": "python",
      "name": "python3"
    },
    "language_info": {
      "codemirror_mode": {
        "name": "ipython",
        "version": 3
      },
      "file_extension": ".py",
      "mimetype": "text/x-python",
      "name": "python",
      "nbconvert_exporter": "python",
      "pygments_lexer": "ipython3",
      "version": "3.9.19"
    }
  },
  "nbformat": 4,
  "nbformat_minor": 4
}
